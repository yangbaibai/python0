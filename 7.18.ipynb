{
 "cells": [
  {
   "cell_type": "markdown",
   "metadata": {},
   "source": [
    "# 选择\n",
    "## 布尔类型、数值和表达式\n",
    "![](../Photo/33.png)\n",
    "- 注意：比较运算符的相等是两个等号，一个等到代表赋值\n",
    "- 在Python中可以用整型0来代表False，其他数字来代表True\n",
    "- 后面还会讲到 is 在判断语句中的用发"
   ]
  },
  {
   "cell_type": "code",
   "execution_count": 1,
   "metadata": {},
   "outputs": [
    {
     "data": {
      "text/plain": [
       "True"
      ]
     },
     "execution_count": 1,
     "metadata": {},
     "output_type": "execute_result"
    }
   ],
   "source": [
    "a = 1\n",
    "b = 1\n",
    "a==b\n"
   ]
  },
  {
   "cell_type": "code",
   "execution_count": 2,
   "metadata": {},
   "outputs": [
    {
     "data": {
      "text/plain": [
       "True"
      ]
     },
     "execution_count": 2,
     "metadata": {},
     "output_type": "execute_result"
    }
   ],
   "source": [
    "a = 1\n",
    "b = 2\n",
    "a != b"
   ]
  },
  {
   "cell_type": "code",
   "execution_count": 3,
   "metadata": {},
   "outputs": [
    {
     "data": {
      "text/plain": [
       "False"
      ]
     },
     "execution_count": 3,
     "metadata": {},
     "output_type": "execute_result"
    }
   ],
   "source": [
    "a = 1\n",
    "b = '1'\n",
    "a==b"
   ]
  },
  {
   "cell_type": "code",
   "execution_count": 4,
   "metadata": {},
   "outputs": [
    {
     "data": {
      "text/plain": [
       "True"
      ]
     },
     "execution_count": 4,
     "metadata": {},
     "output_type": "execute_result"
    }
   ],
   "source": [
    "a = '1'\n",
    "b = '1'\n",
    "a==b"
   ]
  },
  {
   "cell_type": "code",
   "execution_count": 10,
   "metadata": {},
   "outputs": [
    {
     "data": {
      "text/plain": [
       "False"
      ]
     },
     "execution_count": 10,
     "metadata": {},
     "output_type": "execute_result"
    }
   ],
   "source": [
    "0 is 1\n"
   ]
  },
  {
   "cell_type": "code",
   "execution_count": 12,
   "metadata": {},
   "outputs": [
    {
     "data": {
      "text/plain": [
       "False"
      ]
     },
     "execution_count": 12,
     "metadata": {},
     "output_type": "execute_result"
    }
   ],
   "source": [
    "a = 'Hoker'\n",
    "b = 'Aahah'\n",
    "a<b #用阿斯克码表比大小"
   ]
  },
  {
   "cell_type": "code",
   "execution_count": null,
   "metadata": {},
   "outputs": [],
   "source": []
  },
  {
   "cell_type": "markdown",
   "metadata": {},
   "source": [
    "## Markdown \n",
    "- https://github.com/younghz/Markdown"
   ]
  },
  {
   "cell_type": "markdown",
   "metadata": {},
   "source": [
    "吼吼哈嘿\n"
   ]
  },
  {
   "cell_type": "raw",
   "metadata": {},
   "source": [
    "x = 2x+1"
   ]
  },
  {
   "cell_type": "code",
   "execution_count": 1,
   "metadata": {},
   "outputs": [
    {
     "ename": "SyntaxError",
     "evalue": "invalid syntax (<ipython-input-1-ca7e4c60c783>, line 2)",
     "output_type": "error",
     "traceback": [
      "\u001b[1;36m  File \u001b[1;32m\"<ipython-input-1-ca7e4c60c783>\"\u001b[1;36m, line \u001b[1;32m2\u001b[0m\n\u001b[1;33m    - <img src=\"../Photo/34.png\"></img>\u001b[0m\n\u001b[1;37m      ^\u001b[0m\n\u001b[1;31mSyntaxError\u001b[0m\u001b[1;31m:\u001b[0m invalid syntax\n"
     ]
    }
   ],
   "source": [
    "## EP:\n",
    "- <img src=\"../Photo/34.png\"></img>\n",
    "- 输入一个数字，判断其实奇数还是偶数"
   ]
  },
  {
   "cell_type": "code",
   "execution_count": 34,
   "metadata": {},
   "outputs": [
    {
     "name": "stdout",
     "output_type": "stream",
     "text": [
      "请输入一整数7\n",
      "n为奇数\n"
     ]
    }
   ],
   "source": [
    "n = int(input(\"请输入一整数\"))\n",
    "if n%2 == 0:\n",
    "    print(\"n为偶数\")\n",
    "else: \n",
    "    print(\"n为奇数\")\n"
   ]
  },
  {
   "cell_type": "code",
   "execution_count": 36,
   "metadata": {},
   "outputs": [
    {
     "name": "stdout",
     "output_type": "stream",
     "text": [
      "x:>>9\n",
      "奇数\n"
     ]
    }
   ],
   "source": [
    "x = eval(input(\"x:>>\"))\n",
    "if bool(x%2):\n",
    "    print(\"奇数\")\n",
    "else:\n",
    "        print(\"偶数\")"
   ]
  },
  {
   "cell_type": "code",
   "execution_count": 8,
   "metadata": {},
   "outputs": [
    {
     "name": "stdout",
     "output_type": "stream",
     "text": [
      "True\n"
     ]
    }
   ],
   "source": [
    "b1 = bool(4)\n",
    "print(b1)"
   ]
  },
  {
   "cell_type": "markdown",
   "metadata": {},
   "source": [
    "## 产生随机数字\n",
    "- 函数random.randint(a,b) 可以用来产生一个a和b之间且包括a和b的随机整数"
   ]
  },
  {
   "cell_type": "code",
   "execution_count": 1,
   "metadata": {},
   "outputs": [],
   "source": [
    "import random"
   ]
  },
  {
   "cell_type": "code",
   "execution_count": null,
   "metadata": {},
   "outputs": [],
   "source": [
    "random.randint(2,40)"
   ]
  },
  {
   "cell_type": "markdown",
   "metadata": {},
   "source": [
    "产生一个随机数，你去输入，如果你输入的数大于随机数，那么就告诉你太大了，反之，太小了，\n",
    "然后你一直输入，知道它满意为止"
   ]
  },
  {
   "cell_type": "code",
   "execution_count": 7,
   "metadata": {},
   "outputs": [],
   "source": [
    "x = random.randint(1,10)"
   ]
  },
  {
   "cell_type": "code",
   "execution_count": null,
   "metadata": {},
   "outputs": [
    {
     "name": "stdout",
     "output_type": "stream",
     "text": [
      "请输入一个数1\n",
      "太小了\n",
      "请输入一个数2\n",
      "太小了\n",
      "请输入一个数3\n",
      "太小了\n",
      "请输入一个数4\n",
      "太小了\n",
      "请输入一个数5\n",
      "太小了\n",
      "请输入一个数6\n",
      "太小了\n",
      "请输入一个数7\n",
      "太小了\n",
      "请输入一个数8\n",
      "太小了\n",
      "请输入一个数9\n",
      "正确\n"
     ]
    }
   ],
   "source": [
    "while 1:\n",
    "    n = eval(input(\"请输入一个数\"))\n",
    "    if n>x:\n",
    "        print(\"太大了\")\n",
    "    if n<x:\n",
    "         print(\"太小了\")\n",
    "    if n==x:\n",
    "         print(\"正确\")\n",
    "       \n",
    "          "
   ]
  },
  {
   "cell_type": "markdown",
   "metadata": {},
   "source": [
    "##  其他random方法\n",
    "- random.random 返回0.0到1.0之间前闭后开区间的随机浮点\n",
    "- random.randrange(a,b) 前闭后开"
   ]
  },
  {
   "cell_type": "code",
   "execution_count": 1,
   "metadata": {},
   "outputs": [],
   "source": [
    "import random"
   ]
  },
  {
   "cell_type": "code",
   "execution_count": 14,
   "metadata": {},
   "outputs": [
    {
     "name": "stdout",
     "output_type": "stream",
     "text": [
      "5\n"
     ]
    }
   ],
   "source": [
    "x1 = random.randint(0,10)\n",
    "print(x1)"
   ]
  },
  {
   "cell_type": "code",
   "execution_count": 15,
   "metadata": {},
   "outputs": [
    {
     "name": "stdout",
     "output_type": "stream",
     "text": [
      "3\n"
     ]
    }
   ],
   "source": [
    "x1 = random.randrange(0,10)\n",
    "print(x1)"
   ]
  },
  {
   "cell_type": "code",
   "execution_count": 9,
   "metadata": {},
   "outputs": [
    {
     "name": "stdout",
     "output_type": "stream",
     "text": [
      "9 2\n"
     ]
    }
   ],
   "source": [
    "number1=random.randint(0,10)\n",
    "number2=random.randint(0,10)\n",
    "print(number1,number2)"
   ]
  },
  {
   "cell_type": "code",
   "execution_count": 18,
   "metadata": {},
   "outputs": [
    {
     "name": "stdout",
     "output_type": "stream",
     "text": [
      "x13\n",
      "error\n"
     ]
    }
   ],
   "source": [
    "x=eval(input(\"x\"))\n",
    "if x ==(number1+number2):\n",
    "    print('correct')\n",
    "\n",
    "else:\n",
    "        print(\"error\")"
   ]
  },
  {
   "cell_type": "code",
   "execution_count": 30,
   "metadata": {},
   "outputs": [
    {
     "name": "stdout",
     "output_type": "stream",
     "text": [
      "x13\n",
      "error\n",
      "x11\n",
      "correct\n"
     ]
    }
   ],
   "source": [
    "for i in range(5):\n",
    "        x=eval(input(\"x\"))\n",
    "        if x ==(number1+number2): \n",
    "            print('correct')\n",
    "            break\n",
    "        else:\n",
    "            print(\"error\")      "
   ]
  },
  {
   "cell_type": "markdown",
   "metadata": {},
   "source": [
    "## EP：\n",
    "- 产生两个随机整数number1和number2，然后显示给用户，使用户输入数字的和，并判定其是否正确\n",
    "- 进阶:写一个随机序号点名程序"
   ]
  },
  {
   "cell_type": "code",
   "execution_count": 1,
   "metadata": {},
   "outputs": [
    {
     "name": "stdout",
     "output_type": "stream",
     "text": [
      "x6\n",
      "2 可以整除\n",
      "3 可以整除\n"
     ]
    }
   ],
   "source": [
    "x = eval(input('x'))\n",
    "for i in range(2,5):\n",
    "    if x%i==0:\n",
    "        print(i,'可以整除')\n",
    "    "
   ]
  },
  {
   "cell_type": "markdown",
   "metadata": {},
   "source": [
    "## if语句\n",
    "- 如果条件正确就执行一个单向if语句，亦即当条件为真的时候才执行if内部的语句\n",
    "- Python有很多选择语句:\n",
    "> - 单向if \n",
    "  - 双向if-else\n",
    "  - 嵌套if\n",
    "  - 多向if-elif-else\n",
    "  \n",
    "- 注意：当语句含有子语句的时候，那么一定至少要有一个缩进，也就是说如果有儿子存在，那么一定要缩进\n",
    "- 切记不可tab键和space混用，单用tab 或者 space\n",
    "- 当你输出的结果是无论if是否为真时都需要显示时，语句应该与if对齐"
   ]
  },
  {
   "cell_type": "code",
   "execution_count": 1,
   "metadata": {},
   "outputs": [
    {
     "name": "stdout",
     "output_type": "stream",
     "text": [
      ">>12\n",
      "偶数\n"
     ]
    }
   ],
   "source": [
    "x=eval(input('>>'))\n",
    "if x%2==0:\n",
    "    print('偶数')\n",
    "else:\n",
    "    print(\"奇数\")\n",
    "    print(x)"
   ]
  },
  {
   "cell_type": "code",
   "execution_count": 9,
   "metadata": {},
   "outputs": [
    {
     "ename": "IndentationError",
     "evalue": "expected an indented block (<ipython-input-9-5c383e25861d>, line 3)",
     "output_type": "error",
     "traceback": [
      "\u001b[1;36m  File \u001b[1;32m\"<ipython-input-9-5c383e25861d>\"\u001b[1;36m, line \u001b[1;32m3\u001b[0m\n\u001b[1;33m    else:\u001b[0m\n\u001b[1;37m       ^\u001b[0m\n\u001b[1;31mIndentationError\u001b[0m\u001b[1;31m:\u001b[0m expected an indented block\n"
     ]
    }
   ],
   "source": [
    "if condition:\n",
    "    if con:\n",
    "    else:\n",
    "        other\n",
    "    do something\n",
    "else:\n",
    "    other\n",
    "    "
   ]
  },
  {
   "cell_type": "code",
   "execution_count": 19,
   "metadata": {},
   "outputs": [
    {
     "name": "stdout",
     "output_type": "stream",
     "text": [
      "请输入一个有身价的人123456789\n",
      "中\n",
      "远点走\n",
      "可以结婚了\n"
     ]
    }
   ],
   "source": [
    "p = eval(input(\"请输入一个有身价的人\"))\n",
    "if  p>=999:\n",
    "    print(\"中\")\n",
    "else:\n",
    "    print(\"go rolling\")\n",
    "if  999<p<100000:\n",
    "    print(\"不帅也帅\")\n",
    "else:\n",
    "    print(\"远点走\")\n",
    "    if p>100000:\n",
    "        print(\"可以结婚了\")\n",
    "    else:\n",
    "        print(\"请你圆润的走出去\")"
   ]
  },
  {
   "cell_type": "code",
   "execution_count": 28,
   "metadata": {},
   "outputs": [
    {
     "name": "stdout",
     "output_type": "stream",
     "text": [
      "Money(y/n)n\n",
      "Gun~\n"
     ]
    }
   ],
   "source": [
    "money = input('Money(y/n)')\n",
    "if money =='y':\n",
    "    print('再问一个问题')\n",
    "    handsome = input('Handsome(y/n)')\n",
    "    if handsome =='y':\n",
    "        print('关键问题')\n",
    "        wife = input('wife(y/n)')\n",
    "        if wife =='y':\n",
    "            print ('拒绝')\n",
    "        else:\n",
    "            print('马上结婚') \n",
    "    else:\n",
    "            print('考虑一下')\n",
    "else:\n",
    "    print('Gun~')"
   ]
  },
  {
   "cell_type": "markdown",
   "metadata": {},
   "source": [
    "## EP：\n",
    "- 用户输入一个数字，判断其实奇数还是偶数\n",
    "- 进阶：可以查看下4.5实例研究猜生日"
   ]
  },
  {
   "cell_type": "markdown",
   "metadata": {},
   "source": [
    "## 双向if-else 语句\n",
    "- 如果条件为真，那么走if内部语句，否则走else内部语句"
   ]
  },
  {
   "cell_type": "markdown",
   "metadata": {},
   "source": [
    "## EP：\n",
    "- 产生两个随机整数number1和number2，然后显示给用户，使用户输入数字，并判定其是否正确,如果正确打印“you‘re correct”，否则打印正确错误"
   ]
  },
  {
   "cell_type": "markdown",
   "metadata": {},
   "source": [
    "## 嵌套if 和多向if-elif-else\n",
    "![](../Photo/35.png)"
   ]
  },
  {
   "cell_type": "code",
   "execution_count": 2,
   "metadata": {},
   "outputs": [
    {
     "name": "stdout",
     "output_type": "stream",
     "text": [
      " A\n"
     ]
    }
   ],
   "source": [
    "score = 90\n",
    "if score >= 90:\n",
    "    grade =  ' A'\n",
    "elif score>=80:\n",
    "    grade =  ' B'\n",
    "elif score>=70:\n",
    "    grade =  ' C'\n",
    "else:\n",
    "    grade =  ' D'\n",
    "print(grade)\n"
   ]
  },
  {
   "cell_type": "code",
   "execution_count": 31,
   "metadata": {},
   "outputs": [
    {
     "name": "stdout",
     "output_type": "stream",
     "text": [
      "Money(y/n)y\n",
      "再问一个问题\n",
      "Handsome(y/n)y\n",
      "关键问题\n",
      "wife(y/n)y\n",
      "拒绝\n"
     ]
    }
   ],
   "source": [
    "money = input('Money(y/n)')\n",
    "if money =='y':\n",
    "    print('再问一个问题')\n",
    "    handsome = input('Handsome(y/n)')\n",
    "    if handsome =='y':\n",
    "        print('关键问题')\n",
    "        wife = input('wife(y/n)')\n",
    "        if wife =='y':\n",
    "            print ('拒绝')\n",
    "        else:\n",
    "            print('马上结婚') \n",
    "    else:\n",
    "            print('考虑一下')\n",
    "else:\n",
    "    print('Gun~')"
   ]
  },
  {
   "cell_type": "code",
   "execution_count": 37,
   "metadata": {},
   "outputs": [
    {
     "ename": "SyntaxError",
     "evalue": "invalid syntax (<ipython-input-37-cca59de433c5>, line 4)",
     "output_type": "error",
     "traceback": [
      "\u001b[1;36m  File \u001b[1;32m\"<ipython-input-37-cca59de433c5>\"\u001b[1;36m, line \u001b[1;32m4\u001b[0m\n\u001b[1;33m    if x2 == 1:\u001b[0m\n\u001b[1;37m              ^\u001b[0m\n\u001b[1;31mSyntaxError\u001b[0m\u001b[1;31m:\u001b[0m invalid syntax\n"
     ]
    }
   ],
   "source": [
    "x1 = eval(input('钱?(0/1)'))\n",
    "if x1 == 1:\n",
    "    x2 = eval(input('帅?（0/1)')\n",
    "    if x2 == 1:\n",
    "        x3 = eval(input('老婆?（0/1)')\n",
    "        if x3 == 1:\n",
    "            print('原配变小三')\n",
    "        elif x3 == 0:\n",
    "            print('马上结婚')\n",
    "    elif x2 == 0:\n",
    "        print('考虑一下')\n",
    " elif x1 == 0:\n",
    "    print('滚')              "
   ]
  },
  {
   "cell_type": "code",
   "execution_count": 38,
   "metadata": {},
   "outputs": [
    {
     "name": "stdout",
     "output_type": "stream",
     "text": [
      "钱？{0/1}1\n",
      "帅？{0/1}1\n",
      "老婆？{0/1}0\n",
      "马上结婚\n"
     ]
    }
   ],
   "source": [
    "x1=eval(input('钱？{0/1}'))\n",
    "if x1==1:\n",
    "    x2=eval(input('帅？{0/1}'))\n",
    "    if x2==1:\n",
    "        x3=eval(input('老婆？{0/1}'))\n",
    "        if x3==1:\n",
    "            print('原配变小三')\n",
    "        elif x3==0:\n",
    "            print('马上结婚')\n",
    "    elif x2==0:\n",
    "        print('考虑一下')\n",
    "elif x1==0:\n",
    "    print('滚')"
   ]
  },
  {
   "cell_type": "markdown",
   "metadata": {},
   "source": [
    "## EP：\n",
    "- 提示用户输入一个年份，然后显示表示这一年的动物\n",
    "![](../Photo/36.png)\n",
    "- 计算身体质量指数的程序\n",
    "- BMI = 以千克为单位的体重除以以米为单位的身高的平方\n",
    "![](../Photo/37.png)"
   ]
  },
  {
   "cell_type": "code",
   "execution_count": 20,
   "metadata": {},
   "outputs": [
    {
     "name": "stdout",
     "output_type": "stream",
     "text": [
      " 请输入你的体重/千克 75\n",
      " 请输入你的身高/米 1.60\n",
      " 超重 \n"
     ]
    }
   ],
   "source": [
    "x = eval(input(' 请输入你的体重/千克 '))\n",
    "y = eval(input(' 请输入你的身高/米 '))\n",
    "BMI = (x/(y*y))\n",
    "if  BMI < 18.5:\n",
    "    jieshi = (' 超轻 ')\n",
    "elif  18.5 <= BMI  <25.0:\n",
    "    jieshi = (' 标准 ')\n",
    "elif  25.0<=BMI<30.0:\n",
    "    jieshi= (' 超重 ')\n",
    "else:\n",
    "    jieshi = (' 痴肥 ')\n",
    "print(jieshi)    "
   ]
  },
  {
   "cell_type": "code",
   "execution_count": 7,
   "metadata": {},
   "outputs": [
    {
     "name": "stdout",
     "output_type": "stream",
     "text": [
      "请输入一个年份1999\n",
      "兔\n"
     ]
    }
   ],
   "source": [
    "year = eval(input('请输入一个年份'))\n",
    "if year%12==0:\n",
    "    ai = '猴'\n",
    "elif year%12==1: \n",
    "    ai = '鸡'\n",
    "elif year%12==2:\n",
    "    ai = '狗'\n",
    "elif year%12==3:\n",
    "    ai = '猪'\n",
    "elif year%12==4:\n",
    "    ai = '鼠'\n",
    "elif year%12==5:\n",
    "    ai = '牛' \n",
    "elif year%12==6:\n",
    "     ai = '虎' \n",
    "elif year%12==7:\n",
    "     ai = '兔' \n",
    "elif year%12==8:\n",
    "     ai = '龙' \n",
    "elif year%12==9:\n",
    "     ai = '蛇' \n",
    "elif year%12==10:\n",
    "     ai = '马' \n",
    "else:\n",
    "    ai = '羊'\n",
    "print(ai)"
   ]
  },
  {
   "cell_type": "code",
   "execution_count": null,
   "metadata": {},
   "outputs": [],
   "source": [
    "elif\n",
    "elif\n",
    "elif\n",
    "elif\n",
    "elif#alt健鼠标向下拉\n",
    "elif\n",
    "elif\n",
    "elif\n",
    "elif\n",
    "elif\n",
    "elif\n",
    "elif\n"
   ]
  },
  {
   "cell_type": "markdown",
   "metadata": {},
   "source": [
    "## 逻辑运算符\n",
    "![](../Photo/38.png)"
   ]
  },
  {
   "cell_type": "markdown",
   "metadata": {},
   "source": [
    "![](../Photo/39.png)\n",
    "![](../Photo/40.png)"
   ]
  },
  {
   "cell_type": "markdown",
   "metadata": {},
   "source": [
    "## EP：\n",
    "- 判定闰年：一个年份如果能被4整除但不能被100整除，或者能被400整除，那么这个年份就是闰年\n",
    "- 提示用户输入一个年份，并返回是否是闰年\n",
    "- 提示用户输入一个数字，判断其是否为水仙花数"
   ]
  },
  {
   "cell_type": "code",
   "execution_count": 42,
   "metadata": {},
   "outputs": [
    {
     "name": "stdout",
     "output_type": "stream",
     "text": [
      "请输入年份2008\n",
      "闰年\n"
     ]
    }
   ],
   "source": [
    "year = eval(input('请输入年份'))\n",
    "if (year%4==0 and year%400!=0)or(year%400==0):\n",
    "    print('闰年')\n",
    "else:\n",
    "    print('平年')\n"
   ]
  },
  {
   "cell_type": "code",
   "execution_count": 2,
   "metadata": {},
   "outputs": [
    {
     "name": "stdout",
     "output_type": "stream",
     "text": [
      "153 水仙花\n",
      "370 水仙花\n",
      "371 水仙花\n",
      "407 水仙花\n"
     ]
    }
   ],
   "source": [
    "for number in range(100,999):\n",
    "   \n",
    "    bai = number//100\n",
    "    shi = number//10%10\n",
    "    ge = number%10\n",
    "    if bai**3+shi**3+ge**3==number:\n",
    "        print(number,'水仙花')\n"
   ]
  },
  {
   "cell_type": "code",
   "execution_count": null,
   "metadata": {},
   "outputs": [],
   "source": []
  },
  {
   "cell_type": "markdown",
   "metadata": {},
   "source": [
    "## 实例研究：彩票\n",
    "![](../Photo/41.png)"
   ]
  },
  {
   "cell_type": "code",
   "execution_count": 4,
   "metadata": {},
   "outputs": [],
   "source": [
    "import random"
   ]
  },
  {
   "cell_type": "code",
   "execution_count": 9,
   "metadata": {},
   "outputs": [
    {
     "name": "stdout",
     "output_type": "stream",
     "text": [
      "请输入一个两位数的数字:45\n",
      "46\n",
      "奖金为1000美元\n"
     ]
    }
   ],
   "source": [
    "number1 =  random.randint(10,99)\n",
    "number2 = eval(input('请输入一个两位数的数字:'))\n",
    "print(number1)\n",
    "if number2==number1:\n",
    "    print('奖金为10000美元')\n",
    "elif (number1//10)==(number2%10)and(number1%10)==(number1//10):\n",
    "    print('奖金为3000美元')\n",
    "elif (number1//10) == (number2//14596+0) or (number1//10) == (number2%10):\n",
    "    print('奖金为1000美元')\n",
    "elif (number1%10) == (number2//10) or (number1%10) == (number2% 10):\n",
    "    print('奖金为1000美元')\n",
    "else:\n",
    "    print('未中奖')"
   ]
  },
  {
   "cell_type": "markdown",
   "metadata": {},
   "source": [
    "# Homework\n",
    "- 1\n",
    "![](../Photo/42.png)"
   ]
  },
  {
   "cell_type": "code",
   "execution_count": 39,
   "metadata": {},
   "outputs": [
    {
     "name": "stdout",
     "output_type": "stream",
     "text": [
      "a,b,c1,2.0,1\n",
      "The root is -1.0\n"
     ]
    }
   ],
   "source": [
    "import math\n",
    "a,b,c = eval(input('a,b,c'))\n",
    "r0= b*b-4*a*c\n",
    "if r0>0 and a!=0:\n",
    "    r1 = (-b+math.sqrt(r0))/2*a\n",
    "    r2 = (-b-math.sqrt(r0))/2*a\n",
    "    print('The roots are ',round(r1,6) ,'and',round(r2,5))\n",
    "elif r0 == 0 and a!=0:\n",
    "    r3 = -b/2*a\n",
    "    print('The root is',r3)\n",
    "else:\n",
    "    print('The equation has no real roots')\n"
   ]
  },
  {
   "cell_type": "markdown",
   "metadata": {},
   "source": [
    "- 2\n",
    "![](../Photo/43.png)"
   ]
  },
  {
   "cell_type": "code",
   "execution_count": 2,
   "metadata": {},
   "outputs": [
    {
     "name": "stdout",
     "output_type": "stream",
     "text": [
      "63 70\n",
      "请输入这两个整数的和133\n",
      "真\n"
     ]
    }
   ],
   "source": [
    "import random\n",
    "number1 = random.randint(0,100)\n",
    "number2 = random.randint(0,100)\n",
    "print(number1,number2)\n",
    "number3 = eval(input('请输入这两个整数的和'))\n",
    "if number3 == number1+number2:\n",
    "    print('真')\n",
    "else:\n",
    "    print('假')"
   ]
  },
  {
   "cell_type": "markdown",
   "metadata": {},
   "source": [
    "- 3\n",
    "![](../Photo/44.png)"
   ]
  },
  {
   "cell_type": "code",
   "execution_count": 41,
   "metadata": {},
   "outputs": [
    {
     "name": "stdout",
     "output_type": "stream",
     "text": [
      "today day0\n",
      "the number of days elapsed since today:31\n",
      "Today is Sunday and the future day is Wednesday\n"
     ]
    }
   ],
   "source": [
    "day=eval(input(\"today day\"))\n",
    "plus_day=eval(input(\"the number of days elapsed since today:\"))\n",
    "result =(day+plus_day)%7\n",
    "if day==0:\n",
    "    a = ('Sunday')\n",
    "elif day==1:\n",
    "    a = ('Monday')\n",
    "elif day==2:\n",
    "    a = ('Tuesday')\n",
    "elif day==3:\n",
    "    a = ('Wednesday')\n",
    "elif day==4:\n",
    "    a = ('Thursday')\n",
    "elif day==5:\n",
    "    a = ('Friday')\n",
    "else:\n",
    "    a = ('Saturday')\n",
    "if result==0:\n",
    "    b = ('Sunday')\n",
    "elif result==1:\n",
    "    b = ('Monday')\n",
    "elif result==2:\n",
    "    b = ('Tuesday')\n",
    "elif result==3:\n",
    "    b= ('Wednesday')\n",
    "elif result==4:\n",
    "    b = ('Thursday')\n",
    "elif result==5:\n",
    "    b = ('Friday')\n",
    "else:\n",
    "    b = ('Saturday')    \n",
    "print('Today is',a,'and the future day is',b)"
   ]
  },
  {
   "cell_type": "markdown",
   "metadata": {},
   "source": [
    "- 4\n",
    "![](../Photo/45.png)"
   ]
  },
  {
   "cell_type": "code",
   "execution_count": 19,
   "metadata": {},
   "outputs": [
    {
     "name": "stdout",
     "output_type": "stream",
     "text": [
      "请输入一个整数51\n",
      "请输入一个整数2494\n",
      "请输入一个整数851\n",
      "(51, 851, 2494)\n"
     ]
    }
   ],
   "source": [
    "x =eval(input('请输入一个整数'))\n",
    "y =eval(input('请输入一个整数'))\n",
    "z =eval(input('请输入一个整数'))\n",
    "if x<y<z:\n",
    "    n=(x,y,z)\n",
    "elif x<z<y:\n",
    "    n=(x,z,y)\n",
    "elif y<x<z:\n",
    "    n=(y,x,z)\n",
    "elif y<z<x:\n",
    "    n=(y,z,x)\n",
    "elif z<y<x:\n",
    "    n=(z,y,x)\n",
    "else:\n",
    "    n=(z,x,y)\n",
    "print(n)"
   ]
  },
  {
   "cell_type": "markdown",
   "metadata": {},
   "source": [
    "- 5\n",
    "![](../Photo/46.png)"
   ]
  },
  {
   "cell_type": "code",
   "execution_count": 13,
   "metadata": {},
   "outputs": [
    {
     "name": "stdout",
     "output_type": "stream",
     "text": [
      "weight1,price1:50,24.59\n",
      "weight2,price2:25,11.99\n",
      "package 2 has the better price\n"
     ]
    }
   ],
   "source": [
    "weight1,price1= eval(input('weight1,price1:'))\n",
    "weight2,price2= eval(input('weight2,price2:'))\n",
    "package1 = (weight1/price1)\n",
    "package2 = (weight2/price2)\n",
    "if package1>package2:\n",
    "    print('package 2 has the better price')\n",
    "else:\n",
    "    print('package 2 has the better price')\n"
   ]
  },
  {
   "cell_type": "markdown",
   "metadata": {},
   "source": [
    "- 6\n",
    "![](../Photo/47.png)"
   ]
  },
  {
   "cell_type": "code",
   "execution_count": 9,
   "metadata": {},
   "outputs": [
    {
     "name": "stdout",
     "output_type": "stream",
     "text": [
      "请输入年份:2019\n",
      "请输入月份:3\n",
      "2019 年 3 月份有31天\n"
     ]
    }
   ],
   "source": [
    "year = eval(input('请输入年份:'))\n",
    "month = eval(input('请输入月份:'))\n",
    "if  month==1 or month==3 or month==5 or month==7 or month==8 or month==10 or month==12:\n",
    "    print(year,'年',month,'月份有31天')\n",
    "elif month==4 or month==6 or month==9 or month==11:\n",
    "    print(year,'年',mouth,'月份有30天')\n",
    "elif  ((year%4==0 and year%100!=0) or (year%400==0))and(month==2):  \n",
    "    print(year,'年',month,'月份有29天')\n",
    "else:\n",
    "    print(year,'年',month,'月份有28天')"
   ]
  },
  {
   "cell_type": "markdown",
   "metadata": {},
   "source": [
    "- 7\n",
    "![](../Photo/48.png)"
   ]
  },
  {
   "cell_type": "code",
   "execution_count": 1,
   "metadata": {},
   "outputs": [
    {
     "name": "stdout",
     "output_type": "stream",
     "text": [
      "请输入一个换猜测值:1\n",
      "True\n"
     ]
    }
   ],
   "source": [
    "import random\n",
    "x = random.randint(0,1)\n",
    "y = eval(input('请输入一个换猜测值:'))\n",
    "if x==y:\n",
    "    print(True)\n",
    "else:\n",
    "    print(False)\n",
    "    "
   ]
  },
  {
   "cell_type": "markdown",
   "metadata": {},
   "source": [
    "- 8\n",
    "![](../Photo/49.png)"
   ]
  },
  {
   "cell_type": "code",
   "execution_count": 27,
   "metadata": {},
   "outputs": [
    {
     "name": "stdout",
     "output_type": "stream",
     "text": [
      "scissor(0),rock(1),paper(2): 2\n",
      "The computer is 0 . you are 2 . You lost\n"
     ]
    }
   ],
   "source": [
    "import random\n",
    "computer = random.randint(0,2)\n",
    "player = eval(input('scissor(0),rock(1),paper(2): '))\n",
    "if (player==0 and computer==2)or(player==1 and computer ==0)or(player ==1 and computer==2):\n",
    "    print('The computer is' ,'.',computer,'you are', player,'.' 'You won')\n",
    "elif (player==0 and computer==0)or(player==1 and computer ==1)or(player ==2 and computer==2):\n",
    "    print('The computer is' ,computer,'.','you are' ,player,'too','.', 'It is a draw')\n",
    "else:\n",
    "    print('The computer is', computer,'.','you are', player,'.', 'You lost')"
   ]
  },
  {
   "cell_type": "markdown",
   "metadata": {},
   "source": [
    "- 9\n",
    "![](../Photo/50.png)"
   ]
  },
  {
   "cell_type": "code",
   "execution_count": 46,
   "metadata": {},
   "outputs": [],
   "source": [
    "import math"
   ]
  },
  {
   "cell_type": "code",
   "execution_count": 70,
   "metadata": {},
   "outputs": [
    {
     "name": "stdout",
     "output_type": "stream",
     "text": [
      "(e.g.,2008):2013\n",
      "month:,(1-12:)1\n",
      "day of the month:,(1-31:)25\n",
      "Day of the week is Friday\n"
     ]
    }
   ],
   "source": [
    "year = eval(input('(e.g.,2008):'))\n",
    "m = eval(input('month:,(1-12:)'))\n",
    "q = eval(input('day of the month:,(1-31:)'))\n",
    "if m == 1:\n",
    "    m=13\n",
    "    year = year-1\n",
    "if m == 2:\n",
    "    m=14\n",
    "    year = year-1\n",
    "h = (q+int(26*(m+1)/10)+int(year%100)+int(year%100/4)+int(year/100/4)+int(5*year/100))%7\n",
    "if h==0:\n",
    "    print('Day of the week is Saturday')\n",
    "elif h==1:\n",
    "    print('Day of the week is Sunday')\n",
    "elif h==2:\n",
    "    print('Day of the week is Monday')\n",
    "elif h==3:\n",
    "     print('Day of the week is Tuesday')\n",
    "elif h==4:\n",
    "     print('Day of the week is Wednesday')\n",
    "elif h==5:\n",
    "     print('Day of the week is Thursday')\n",
    "else:\n",
    "    print('Day of the week is Friday')\n"
   ]
  },
  {
   "cell_type": "markdown",
   "metadata": {},
   "source": [
    "- 10\n",
    "![](../Photo/51.png)"
   ]
  },
  {
   "cell_type": "code",
   "execution_count": 1,
   "metadata": {},
   "outputs": [
    {
     "name": "stdout",
     "output_type": "stream",
     "text": [
      "The card you picked is the  king of clubs\n"
     ]
    }
   ],
   "source": [
    "import random\n",
    "fc = random.randint(1,4)\n",
    "if fc == 1:\n",
    "    fc = 'clubs'\n",
    "elif fc == 2:\n",
    "    fc = 'hearth'\n",
    "elif fc == 3:\n",
    "    fc = 'diamond'\n",
    "elif fc == 4:\n",
    "    fc = 'spades'\n",
    "daxiao =  random.randint(1,13)  \n",
    "if daxiao == 1:\n",
    "    daxiao = ('Ace')\n",
    "elif daxiao == 11:\n",
    "    daxiao = ('Jack')\n",
    "elif daxiao == 12:    \n",
    "     daxiao = ('Queen')\n",
    "elif daxiao == 13:\n",
    "    daxiao = ('king')\n",
    "    print('The card you picked is the ',daxiao,'of',fc)"
   ]
  },
  {
   "cell_type": "markdown",
   "metadata": {},
   "source": [
    "- 11\n",
    "![](../Photo/52.png)"
   ]
  },
  {
   "cell_type": "code",
   "execution_count": 3,
   "metadata": {},
   "outputs": [
    {
     "name": "stdout",
     "output_type": "stream",
     "text": [
      "three_digit integer:121\n",
      "121 is a palindrome\n"
     ]
    }
   ],
   "source": [
    "number1 = eval(input('three_digit integer:'))\n",
    "number2 = str(number1%10)+str(number1%100//10)+str(number1//100)\n",
    "if number1==eval(number2):\n",
    "    print(number1,'is a palindrome')\n",
    "else:\n",
    "    print(number1,'is not a palindrome')"
   ]
  },
  {
   "cell_type": "code",
   "execution_count": 86,
   "metadata": {},
   "outputs": [
    {
     "name": "stdout",
     "output_type": "stream",
     "text": [
      "three_digit integer:123\n",
      "123 is not a palindrome\n"
     ]
    }
   ],
   "source": [
    "number1 = eval(input('three_digit integer:'))\n",
    "a1 = number1%10\n",
    "a2 = number1%100//10\n",
    "a3 = number1//100%10\n",
    "number2 = a1*100+a2*10+a3\n",
    "if number1 == number2:\n",
    "     print(number1,'is a palindrome' )\n",
    "else:\n",
    "     print(number1,'is not a palindrome')"
   ]
  },
  {
   "cell_type": "markdown",
   "metadata": {},
   "source": [
    "- 12\n",
    "![](../Photo/53.png)"
   ]
  },
  {
   "cell_type": "code",
   "execution_count": 30,
   "metadata": {},
   "outputs": [
    {
     "name": "stdout",
     "output_type": "stream",
     "text": [
      "three edges:1,1,1\n",
      "The perimeter is 3\n"
     ]
    }
   ],
   "source": [
    "a,b,c= eval(input('three edges:'))\n",
    "L=a+b+c\n",
    "if (a+b>c)and(a+c>b)and(b+c>a):\n",
    "    print('The perimeter is',L)\n",
    "else:\n",
    "    print('非法')"
   ]
  }
 ],
 "metadata": {
  "kernelspec": {
   "display_name": "Python 3",
   "language": "python",
   "name": "python3"
  },
  "language_info": {
   "codemirror_mode": {
    "name": "ipython",
    "version": 3
   },
   "file_extension": ".py",
   "mimetype": "text/x-python",
   "name": "python",
   "nbconvert_exporter": "python",
   "pygments_lexer": "ipython3",
   "version": "3.7.3"
  }
 },
 "nbformat": 4,
 "nbformat_minor": 2
}
